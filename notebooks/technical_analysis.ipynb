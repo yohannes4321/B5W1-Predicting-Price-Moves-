{
  "nbformat": 4,
  "nbformat_minor": 0,
  "metadata": {
    "colab": {
      "private_outputs": true,
      "provenance": []
    },
    "kernelspec": {
      "name": "python3",
      "display_name": "Python 3"
    },
    "language_info": {
      "name": "python"
    }
  },
  "cells": [
    {
      "cell_type": "code",
      "execution_count": null,
      "metadata": {
        "id": "_3aXDXP6yWaN"
      },
      "outputs": [],
      "source": [
        "\n",
        "import pandas as pd\n",
        "import talib\n",
        "import matplotlib.pyplot as plt\n",
        "\n",
        "stock_df = pd.read_excel(\"data/AAPL_historical_data.xlsx\")\n",
        "\n",
        "\n",
        "stock_df['MA_20'] = talib.SMA(stock_df['close'], timeperiod=20)\n",
        "stock_df['RSI_14'] = talib.RSI(stock_df['close'], timeperiod=14)\n",
        "macd, signal, _ = talib.MACD(stock_df['close'])\n",
        "stock_df['MACD'] = macd\n",
        "\n",
        "\n",
        "plt.figure(figsize=(12, 8))\n",
        "plt.subplot(3, 1, 1)\n",
        "plt.plot(stock_df['date'], stock_df['close'], label='Price')\n",
        "plt.plot(stock_df['date'], stock_df['MA_20'], label='20-day MA')\n",
        "plt.legend()\n",
        "\n",
        "plt.subplot(3, 1, 2)\n",
        "plt.plot(stock_df['date'], stock_df['RSI_14'], label='RSI (14)')\n",
        "plt.axhline(70, color='r', linestyle='--')\n",
        "plt.axhline(30, color='g', linestyle='--')\n",
        "plt.legend()\n",
        "\n",
        "plt.subplot(3, 1, 3)\n",
        "plt.plot(stock_df['date'], stock_df['MACD'], label='MACD')\n",
        "plt.legend()\n",
        "plt.savefig('notebooks/technical_indicators.png')\n",
        "plt.show()"
      ]
    }
  ]
}