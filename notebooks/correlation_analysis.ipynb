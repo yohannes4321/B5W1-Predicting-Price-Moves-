{
  "nbformat": 4,
  "nbformat_minor": 0,
  "metadata": {
    "colab": {
      "private_outputs": true,
      "provenance": []
    },
    "kernelspec": {
      "name": "python3",
      "display_name": "Python 3"
    },
    "language_info": {
      "name": "python"
    }
  },
  "cells": [
    {
      "cell_type": "code",
      "execution_count": null,
      "metadata": {
        "id": "Qwbbhs4Ny48R"
      },
      "outputs": [],
      "source": [
        "\n",
        "import pandas as pd\n",
        "import seaborn as sns\n",
        "\n",
        "news_df = pd.read_csv(\"data/raw_analyst_ratings.csv\")\n",
        "stock_df = pd.read_excel(\"data/AAPL_historical_data.xlsx\")\n",
        "\n",
        "\n",
        "news_df['date'] = pd.to_datetime(news_df['date']).dt.date\n",
        "stock_df['date'] = pd.to_datetime(stock_df['date']).dt.date\n",
        "\n",
        "\n",
        "stock_df['daily_return'] = stock_df['close'].pct_change() * 100\n",
        "\n",
        "daily_sentiment = news_df.groupby('date')['sentiment'].mean().reset_index()\n",
        "\n",
        "merged_df = pd.merge(stock_df, daily_sentiment, on='date', how='left')\n",
        "\n",
        "correlation = merged_df[['daily_return', 'sentiment']].corr()\n",
        "print(\"Correlation matrix:\\n\", correlation)\n",
        "\n",
        "\n",
        "sns.heatmap(correlation, annot=True, cmap='coolwarm')\n",
        "plt.title('Correlation: Daily Returns vs News Sentiment')\n",
        "plt.savefig('notebooks/correlation_heatmap.png')\n",
        "plt.show()"
      ]
    },
    {
      "cell_type": "code",
      "source": [],
      "metadata": {
        "id": "-Vfd9Z5LzGmb"
      },
      "execution_count": null,
      "outputs": []
    }
  ]
}