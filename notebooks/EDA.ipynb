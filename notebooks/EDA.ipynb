# notebooks/EDA.ipynb
import pandas as pd
import matplotlib.pyplot as plt

# Load data
news_df = pd.read_csv("data/raw_analyst_ratings.csv")
stock_df = pd.read_excel("data/AAPL_historical_data.xlsx")  # Example for AAPL

# --- Task 1: Descriptive Statistics ---
# 1. Headline length analysis
news_df['headline_length'] = news_df['headline'].str.len()
print("Headline length stats:\n", news_df['headline_length'].describe())

# 2. Articles per publisher
publisher_counts = news_df['publisher'].value_counts()
print("\nTop publishers:\n", publisher_counts.head(10))

# Plot
plt.figure(figsize=(12, 4))
publisher_counts.head(10).plot(kind='bar', title='Top 10 Publishers by Article Count')
plt.savefig('notebooks/publisher_counts.png')  # Save plot for report
plt.show()

# --- Task 2: Time Series Analysis ---
# Convert date column to datetime
news_df['date'] = pd.to_datetime(news_df['date'])

# Articles per day
articles_per_day = news_df.resample('D', on='date').size()
articles_per_day.plot(title='Article Publication Frequency Over Time')
plt.savefig('notebooks/publication_frequency.png')
plt.show()

# --- Task 3: Sentiment Analysis (Example) ---
from textblob import TextBlob

def get_sentiment(text):
    return TextBlob(str(text)).sentiment.polarity

news_df['sentiment'] = news_df['headline'].apply(get_sentiment)
print("\nSentiment scores sample:\n", news_df[['headline', 'sentiment']].head())
