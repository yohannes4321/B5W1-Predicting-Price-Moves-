{
  "nbformat": 4,
  "nbformat_minor": 0,
  "metadata": {
    "colab": {
      "private_outputs": true,
      "provenance": []
    },
    "kernelspec": {
      "name": "python3",
      "display_name": "Python 3"
    },
    "language_info": {
      "name": "python"
    }
  },
  "cells": [
    {
      "cell_type": "code",
      "execution_count": null,
      "metadata": {
        "id": "_3aXDXP6yWaN"
      },
      "outputs": [],
      "source": [
        "\n",
        "import pandas as pd\n",
        "import matplotlib.pyplot as plt\n",
        "\n",
        "news_df = pd.read_csv(\"data/raw_analyst_ratings.csv\")\n",
        "stock_df = pd.read_excel(\"data/AAPL_historical_data.xlsx\")  # Example for AAPL\n",
        "\n",
        "news_df['headline_length'] = news_df['headline'].str.len()\n",
        "print(\"Headline length stats:\\n\", news_df['headline_length'].describe())\n",
        "\n",
        "publisher_counts = news_df['publisher'].value_counts()\n",
        "print(\"\\nTop publishers:\\n\", publisher_counts.head(10))\n",
        "\n",
        "\n",
        "plt.figure(figsize=(12, 4))\n",
        "publisher_counts.head(10).plot(kind='bar', title='Top 10 Publishers by Article Count')\n",
        "plt.savefig('notebooks/publisher_counts.png')  # Save plot for report\n",
        "plt.show()\n",
        "\n",
        "\n",
        "news_df['date'] = pd.to_datetime(news_df['date'])\n",
        "\n",
        "articles_per_day = news_df.resample('D', on='date').size()\n",
        "articles_per_day.plot(title='Article Publication Frequency Over Time')\n",
        "plt.savefig('notebooks/publication_frequency.png')\n",
        "\n",
        "from textblob import TextBlob\n",
        "\n",
        "def get_sentiment(text):\n",
        "    return TextBlob(str(text)).sentiment.polarity\n",
        "\n",
        "news_df['sentiment'] = news_df['headline'].apply(get_sentiment)\n",
        "print(\"\\nSentiment scores sample:\\n\", news_df[['headline', 'sentiment']].head())"
      ]
    }
  ]
}